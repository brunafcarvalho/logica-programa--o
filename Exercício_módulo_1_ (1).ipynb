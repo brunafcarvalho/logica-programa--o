{
  "nbformat": 4,
  "nbformat_minor": 0,
  "metadata": {
    "colab": {
      "provenance": []
    },
    "kernelspec": {
      "name": "python3",
      "display_name": "Python 3"
    },
    "language_info": {
      "name": "python"
    }
  },
  "cells": [
    {
      "cell_type": "code",
      "execution_count": 2,
      "metadata": {
        "colab": {
          "base_uri": "https://localhost:8080/"
        },
        "id": "m7PMQyP8WLiR",
        "outputId": "f35a53fe-36ff-4505-8a93-8d4032abb624"
      },
      "outputs": [
        {
          "output_type": "stream",
          "name": "stdout",
          "text": [
            " Digite aqui o valor bruto de seu salário. Utilize '.', e não vírgula:\n",
            "5000\n",
            " Digite aqui o valor dos descontos em seu holerite.  Utilize '.', e não vírgula:\n",
            "1\n",
            "Aqui está o calculo do seu salário\n",
            "Seu salário líquido do mês de setembro é de: 4999.0\n",
            "Seu salário anual é de: 59988.0\n",
            "Esse é o valor que voce recebe por dia: 166.63333333333333\n"
          ]
        }
      ],
      "source": [
        "salario= (float(input(\" Digite aqui o valor bruto de seu salário. Utilize '.', e não vírgula:\\n\"))) #Usuário digita o salário bruto\n",
        "\n",
        "desconto= (float(input(\" Digite aqui o valor dos descontos em seu holerite.  Utilize '.', e não vírgula:\\n\"))) #usuario digita descontos\n",
        "\n",
        "bonus_setembro= 200 #bonus oferecido pela empresa no mes de setembro para funcionários que ganham até 3000\n",
        "salario_liquido= (salario-desconto) #salario menos os descontos (primeira operação matematica)\n",
        "if salario <= 3000:  #se o salário bruto é maior ou igual a 3.000 ele recebe o bonus\n",
        "    salario_liquido += bonus_setembro  # Adiciona o bônus ao salário líquido (segunda operação matemática)\n",
        "    print(\"Parabéns! Você recebeu um bônus de R$ 200! Aqui está o calculo do seu salário.\")  # Mensagem para quem recebe bônus\n",
        "else:\n",
        "    print(\"Aqui está o calculo do seu salário\")  # Mensagem para quem não recebe\n",
        "\n",
        "\n",
        "total_anual = salario_liquido * 12 #salario liquido dividido por 12 meses (terceira operação matempatica)\n",
        "salario_por_dia = salario_liquido / 30 #calculo do salario por dia (quarta operação matematica)\n",
        "\n",
        "print(\"Seu salário líquido do mês de setembro é de:\", salario_liquido)  #imprime pro usuario o valor líquido\n",
        "print(\"Seu salário anual é de:\", total_anual)  #imprime pro usuario o valor líquido\n",
        "print(\"Esse é o valor que voce recebe por dia:\", salario_por_dia)  #imprime pro usuario o valor líquido"
      ]
    },
    {
      "cell_type": "code",
      "source": [],
      "metadata": {
        "id": "cdwCs6R8W_3q"
      },
      "execution_count": null,
      "outputs": []
    }
  ]
}
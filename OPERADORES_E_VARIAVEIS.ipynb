{
  "nbformat": 4,
  "nbformat_minor": 0,
  "metadata": {
    "colab": {
      "provenance": []
    },
    "kernelspec": {
      "name": "python3",
      "display_name": "Python 3"
    },
    "language_info": {
      "name": "python"
    }
  },
  "cells": [
    {
      "cell_type": "markdown",
      "source": [
        "#OPERADORES ARITMÉTICOS"
      ],
      "metadata": {
        "id": "IVbFVv9zNKfj"
      }
    },
    {
      "cell_type": "code",
      "execution_count": null,
      "metadata": {
        "colab": {
          "base_uri": "https://localhost:8080/"
        },
        "id": "X5cSmEdeL6v0",
        "outputId": "0b86e743-2c0c-4a5f-8579-0f78393c22fe"
      },
      "outputs": [
        {
          "output_type": "execute_result",
          "data": {
            "text/plain": [
              "12"
            ]
          },
          "metadata": {},
          "execution_count": 16
        }
      ],
      "source": [
        "#SOMA\n",
        "10+2\n"
      ]
    },
    {
      "cell_type": "code",
      "source": [
        "#SUBTRAÇÃO\n",
        "10-2"
      ],
      "metadata": {
        "colab": {
          "base_uri": "https://localhost:8080/"
        },
        "id": "JvfxOF48MPwa",
        "outputId": "62997229-c540-4504-c4e6-1201f5386fd9"
      },
      "execution_count": null,
      "outputs": [
        {
          "output_type": "execute_result",
          "data": {
            "text/plain": [
              "8"
            ]
          },
          "metadata": {},
          "execution_count": 17
        }
      ]
    },
    {
      "cell_type": "code",
      "source": [
        "10+2"
      ],
      "metadata": {
        "colab": {
          "base_uri": "https://localhost:8080/"
        },
        "id": "vPZUMyB_MRph",
        "outputId": "7627b548-1af0-4cb8-c82d-f67bd40a4dfb"
      },
      "execution_count": null,
      "outputs": [
        {
          "output_type": "execute_result",
          "data": {
            "text/plain": [
              "12"
            ]
          },
          "metadata": {},
          "execution_count": 3
        }
      ]
    },
    {
      "cell_type": "code",
      "source": [
        "#MULTIPLICAÇÃO\n",
        "10*2"
      ],
      "metadata": {
        "colab": {
          "base_uri": "https://localhost:8080/"
        },
        "id": "QyMguQJNMSzJ",
        "outputId": "fb2b8b02-6edc-4b57-b946-ca9e2337296e"
      },
      "execution_count": null,
      "outputs": [
        {
          "output_type": "execute_result",
          "data": {
            "text/plain": [
              "20"
            ]
          },
          "metadata": {},
          "execution_count": 18
        }
      ]
    },
    {
      "cell_type": "code",
      "source": [
        "#DIVISÃO\n",
        "10/2"
      ],
      "metadata": {
        "colab": {
          "base_uri": "https://localhost:8080/"
        },
        "id": "Z3PavI7SMTzR",
        "outputId": "16248485-0512-4ed7-896e-ecb9c39389de"
      },
      "execution_count": null,
      "outputs": [
        {
          "output_type": "execute_result",
          "data": {
            "text/plain": [
              "5.0"
            ]
          },
          "metadata": {},
          "execution_count": 19
        }
      ]
    },
    {
      "cell_type": "code",
      "source": [
        "#DIVISÃO NUMEOR INTEIRO\n",
        "10//2"
      ],
      "metadata": {
        "colab": {
          "base_uri": "https://localhost:8080/"
        },
        "id": "pwUbtwtVMVrR",
        "outputId": "490eeeae-cc37-46ee-e9ca-c74c1fe66a46"
      },
      "execution_count": null,
      "outputs": [
        {
          "output_type": "execute_result",
          "data": {
            "text/plain": [
              "5"
            ]
          },
          "metadata": {},
          "execution_count": 20
        }
      ]
    },
    {
      "cell_type": "code",
      "source": [
        "#SOBRA DA DIVISÃO\n",
        "10%2"
      ],
      "metadata": {
        "colab": {
          "base_uri": "https://localhost:8080/"
        },
        "id": "QqQITGvFMWlJ",
        "outputId": "d553e032-d684-4f56-c362-7ba515c83a8f"
      },
      "execution_count": null,
      "outputs": [
        {
          "output_type": "execute_result",
          "data": {
            "text/plain": [
              "0"
            ]
          },
          "metadata": {},
          "execution_count": 21
        }
      ]
    },
    {
      "cell_type": "code",
      "source": [
        "10**2"
      ],
      "metadata": {
        "colab": {
          "base_uri": "https://localhost:8080/"
        },
        "id": "5ievi-V5MZ7w",
        "outputId": "9a7d7e71-b948-4fac-f18b-095d59c62c41"
      },
      "execution_count": null,
      "outputs": [
        {
          "output_type": "execute_result",
          "data": {
            "text/plain": [
              "100"
            ]
          },
          "metadata": {},
          "execution_count": 8
        }
      ]
    },
    {
      "cell_type": "markdown",
      "source": [
        "# OPERADORES RELACIONAIS"
      ],
      "metadata": {
        "id": "ayqT0PRlNAlZ"
      }
    },
    {
      "cell_type": "code",
      "source": [
        "#MENOR\n",
        "10<2"
      ],
      "metadata": {
        "colab": {
          "base_uri": "https://localhost:8080/"
        },
        "id": "-8tU7qy8MgTo",
        "outputId": "6de726c1-c99a-4e42-de93-88c4cc4de0bb"
      },
      "execution_count": null,
      "outputs": [
        {
          "output_type": "execute_result",
          "data": {
            "text/plain": [
              "False"
            ]
          },
          "metadata": {},
          "execution_count": 9
        }
      ]
    },
    {
      "cell_type": "code",
      "source": [
        "#MAIOR\n",
        "10>2"
      ],
      "metadata": {
        "colab": {
          "base_uri": "https://localhost:8080/"
        },
        "id": "obyb08oeMjE4",
        "outputId": "a1941481-8673-4b05-9672-244384ee35c4"
      },
      "execution_count": null,
      "outputs": [
        {
          "output_type": "execute_result",
          "data": {
            "text/plain": [
              "True"
            ]
          },
          "metadata": {},
          "execution_count": 22
        }
      ]
    },
    {
      "cell_type": "code",
      "source": [
        "#MEOR OU IGUAL\n",
        "10<=10"
      ],
      "metadata": {
        "colab": {
          "base_uri": "https://localhost:8080/"
        },
        "id": "Jbtph79aMkk4",
        "outputId": "6cb1606a-10ad-46f6-9b11-39d425574153"
      },
      "execution_count": null,
      "outputs": [
        {
          "output_type": "execute_result",
          "data": {
            "text/plain": [
              "True"
            ]
          },
          "metadata": {},
          "execution_count": 23
        }
      ]
    },
    {
      "cell_type": "code",
      "source": [
        "#MAIOR OU IGUAL\n",
        "10>=2"
      ],
      "metadata": {
        "colab": {
          "base_uri": "https://localhost:8080/"
        },
        "id": "kRd7ZM4eMoHQ",
        "outputId": "d2180f26-785c-49a8-f9b4-81909e901357"
      },
      "execution_count": null,
      "outputs": [
        {
          "output_type": "execute_result",
          "data": {
            "text/plain": [
              "True"
            ]
          },
          "metadata": {},
          "execution_count": 12
        }
      ]
    },
    {
      "cell_type": "code",
      "source": [
        "1>=10"
      ],
      "metadata": {
        "colab": {
          "base_uri": "https://localhost:8080/"
        },
        "id": "Ucrr1og1Ms-Y",
        "outputId": "965dc8a0-d29c-474e-d422-2e0afc4fd75d"
      },
      "execution_count": null,
      "outputs": [
        {
          "output_type": "execute_result",
          "data": {
            "text/plain": [
              "False"
            ]
          },
          "metadata": {},
          "execution_count": 13
        }
      ]
    },
    {
      "cell_type": "code",
      "source": [
        "#DIFERENTE\n",
        "7!=10"
      ],
      "metadata": {
        "colab": {
          "base_uri": "https://localhost:8080/"
        },
        "id": "WsOboQGIM0WQ",
        "outputId": "7b37d96c-0d79-4900-c2a9-4a53af8b21d7"
      },
      "execution_count": null,
      "outputs": [
        {
          "output_type": "execute_result",
          "data": {
            "text/plain": [
              "True"
            ]
          },
          "metadata": {},
          "execution_count": 24
        }
      ]
    },
    {
      "cell_type": "markdown",
      "source": [
        "#OPERADORES LÓGICOS\n",
        "\n",
        "\n",
        "\n",
        "*   AND todas respostas precisam estar VERDADE\n",
        "*   OR alguma resposta precisa ser VERDADE\n",
        "* NOT inverte a resposta\n",
        "\n",
        "\n",
        "\n"
      ],
      "metadata": {
        "id": "wGRUMCJpTmwL"
      }
    },
    {
      "cell_type": "markdown",
      "source": [
        "#tabela verdade = resposta verdadeira ou falsa\n",
        "\n",
        "\n",
        "\n"
      ],
      "metadata": {
        "id": "sAA6RCZ9Vn4i"
      }
    },
    {
      "cell_type": "markdown",
      "source": [
        "AND"
      ],
      "metadata": {
        "id": "LQBJT_pSZKIR"
      }
    },
    {
      "cell_type": "code",
      "source": [
        "print (10>2 and 12>10) #v and v = v\n",
        "print (10>2 and 2>10) #v and f = f\n",
        "print (5<10 and 7<10) #v and v = v\n",
        "print (3>5 and 5<3) #f and f = f\n"
      ],
      "metadata": {
        "colab": {
          "base_uri": "https://localhost:8080/"
        },
        "id": "nGwZKIdfVt2R",
        "outputId": "3f101210-222e-4608-e303-c146b80d21be"
      },
      "execution_count": null,
      "outputs": [
        {
          "output_type": "stream",
          "name": "stdout",
          "text": [
            "True\n",
            "False\n",
            "True\n",
            "False\n"
          ]
        }
      ]
    },
    {
      "cell_type": "markdown",
      "source": [
        "OR"
      ],
      "metadata": {
        "id": "KgRNqaukZVEJ"
      }
    },
    {
      "cell_type": "code",
      "source": [
        "print (10>2 or 2>10) #v e f = verdade\n",
        "print (10<2 or 5<3) #f e f = falso\n",
        "print (2>1 or 1>0) #v e v = verdade"
      ],
      "metadata": {
        "colab": {
          "base_uri": "https://localhost:8080/"
        },
        "id": "9Jjgcoq6ZW70",
        "outputId": "8848a207-b3cc-4e4b-e5a3-e70769627336"
      },
      "execution_count": null,
      "outputs": [
        {
          "output_type": "stream",
          "name": "stdout",
          "text": [
            "True\n",
            "False\n",
            "True\n"
          ]
        }
      ]
    },
    {
      "cell_type": "markdown",
      "source": [
        "NOT"
      ],
      "metadata": {
        "id": "OEaLZmVbW9_R"
      }
    },
    {
      "cell_type": "code",
      "source": [
        "not 5>2 #verdadeiro transforma em falso\n"
      ],
      "metadata": {
        "colab": {
          "base_uri": "https://localhost:8080/"
        },
        "id": "emycYBR5V1OJ",
        "outputId": "77451b68-111a-4c78-c5e9-a56ecc72097a"
      },
      "execution_count": null,
      "outputs": [
        {
          "output_type": "execute_result",
          "data": {
            "text/plain": [
              "False"
            ]
          },
          "metadata": {},
          "execution_count": 31
        }
      ]
    },
    {
      "cell_type": "code",
      "source": [
        "not 5<2 #falso transforma em verdadeiro"
      ],
      "metadata": {
        "colab": {
          "base_uri": "https://localhost:8080/"
        },
        "id": "f45YzIpAXbZ5",
        "outputId": "516179bb-e2ee-4e22-b49d-31f0eba2321d"
      },
      "execution_count": null,
      "outputs": [
        {
          "output_type": "execute_result",
          "data": {
            "text/plain": [
              "True"
            ]
          },
          "metadata": {},
          "execution_count": 32
        }
      ]
    },
    {
      "cell_type": "code",
      "source": [
        "not 10>2"
      ],
      "metadata": {
        "colab": {
          "base_uri": "https://localhost:8080/"
        },
        "id": "pwOUsUaGX8CZ",
        "outputId": "ca5b87b7-15aa-4d69-fb61-917ed03597f5"
      },
      "execution_count": null,
      "outputs": [
        {
          "output_type": "execute_result",
          "data": {
            "text/plain": [
              "False"
            ]
          },
          "metadata": {},
          "execution_count": 41
        }
      ]
    },
    {
      "cell_type": "code",
      "source": [
        "not 2>10"
      ],
      "metadata": {
        "colab": {
          "base_uri": "https://localhost:8080/"
        },
        "id": "Lpoa-PkSad0a",
        "outputId": "539a4d0e-38c9-415a-89cb-efa0828113ad"
      },
      "execution_count": null,
      "outputs": [
        {
          "output_type": "execute_result",
          "data": {
            "text/plain": [
              "True"
            ]
          },
          "metadata": {},
          "execution_count": 1
        }
      ]
    },
    {
      "cell_type": "markdown",
      "source": [
        "#VARIÁVEIS\n",
        "## Variáveis estão alocadas em espaços na memória"
      ],
      "metadata": {
        "id": "uTJ7llGDGKEn"
      }
    },
    {
      "cell_type": "code",
      "source": [
        "#nome da variavel é 'x' e armazena valor 10\n",
        "#se usar um '=' é   ATRIBUIÇÃO\n",
        "x=10\n",
        "print (x) #print x eu to pedindo pra imprimir o valor q está atribuido a x\n",
        "\n"
      ],
      "metadata": {
        "colab": {
          "base_uri": "https://localhost:8080/"
        },
        "id": "_aDhMK4AGXFW",
        "outputId": "14a1f750-8be1-4142-d2f4-ee61f47526fe"
      },
      "execution_count": null,
      "outputs": [
        {
          "output_type": "stream",
          "name": "stdout",
          "text": [
            "10\n"
          ]
        }
      ]
    },
    {
      "cell_type": "code",
      "source": [],
      "metadata": {
        "id": "3rFPGT1tG-4f"
      },
      "execution_count": null,
      "outputs": []
    }
  ]
}